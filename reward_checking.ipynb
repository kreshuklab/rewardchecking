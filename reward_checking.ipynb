{
 "cells": [
  {
   "cell_type": "code",
   "execution_count": 1,
   "id": "f2533fa3-ae41-4a90-9c4c-85bd087ac8d0",
   "metadata": {},
   "outputs": [],
   "source": [
    "%load_ext autoreload\n",
    "%autoreload 2"
   ]
  },
  {
   "cell_type": "code",
   "execution_count": 17,
   "id": "ea48a05c-c297-4693-9573-32dd0454b232",
   "metadata": {},
   "outputs": [],
   "source": [
    "import os\n",
    "import h5py\n",
    "import vigra\n",
    "import numpy as np\n",
    "import elf.segmentation.features as feats\n",
    "from skimage import draw\n",
    "from skimage.filters import gaussian\n",
    "from skimage.transform import rotate\n",
    "from skimage.segmentation import relabel_sequential\n",
    "from affogato.segmentation import compute_mws_segmentation\n",
    "from elf.segmentation.features import project_node_labels_to_pixels\n",
    "from elf.segmentation.multicut import multicut_decomposition\n",
    "import matplotlib.pyplot as plt\n",
    "from matplotlib import cm\n",
    "import napari\n",
    "from elf.segmentation import compute_rag\n",
    "import imageio.v2 as imageio\n",
    "from rag_utils import find_dense_subgraphs\n",
    "import torch\n",
    "from graphs import get_edge_indices, collate_edges\n",
    "from lines_reward import HoughLinesReward\n",
    "from circles_reward import HoughCirclesReward"
   ]
  },
  {
   "cell_type": "code",
   "execution_count": 3,
   "id": "333083c8-890a-4742-afbd-6a8785067016",
   "metadata": {},
   "outputs": [],
   "source": [
    "device = torch.device(\"cuda:0\")\n",
    "torch.cuda.set_device(device)"
   ]
  },
  {
   "cell_type": "code",
   "execution_count": 22,
   "id": "f78a6357-c96e-47a0-8f00-6a543d0aee02",
   "metadata": {},
   "outputs": [],
   "source": [
    "def rew_f(super_pixel, pred_img, s_subgraph, RewardFunction):\n",
    "    super_pixelT = torch.from_numpy(super_pixel)\n",
    "    pred_imgT = torch.from_numpy(pred_img)\n",
    "    graph = compute_rag(super_pixelT)\n",
    "    edge_ids = graph.uvIds().T\n",
    "    edge_ids = edge_ids.astype(np.int64)\n",
    "    edge_ids, fw, inv = relabel_sequential(edge_ids)\n",
    "    edge_ids = torch.from_numpy(edge_ids)\n",
    "    edge_ids = [edge_ids]\n",
    "    dir_edge_ids = [torch.cat([_edge_ids, torch.stack([_edge_ids[1], _edge_ids[0]], dim=0)], dim=1) for _edge_ids in edge_ids]\n",
    "    _subgraphs, _sep_subgraphs = find_dense_subgraphs([eids.transpose(0, 1).cpu().numpy() for eids in edge_ids], s_subgraph)\n",
    "    \n",
    "    bs = 1\n",
    "    _subgraphs = [torch.from_numpy(sg.astype(np.int64)).permute(2, 0, 1) for sg in _subgraphs]\n",
    "    _sep_subgraphs = [torch.from_numpy(sg.astype(np.int64)).permute(2, 0, 1) for sg in _sep_subgraphs]\n",
    "    _edge_ids, (n_offs, e_offs) = collate_edges(edge_ids)\n",
    "    subgraphs, sep_subgraphs = [], []\n",
    "    \n",
    "    for i in range(len(s_subgraph)):\n",
    "        subgraphs.append(torch.cat([sg + n_offs[i] for i, sg in enumerate(_subgraphs[i*bs:(i+1)*bs])], -2).flatten(-2, -1))\n",
    "        sep_subgraphs.append(torch.cat(_sep_subgraphs[i*bs:(i+1)*bs], -2).flatten(-2, -1))\n",
    "\n",
    "    SI = get_edge_indices(_edge_ids, subgraphs)\n",
    "    \n",
    "    reward_function = RewardFunction(s_subgraph)\n",
    "\n",
    "    pred_imgT = torch.unsqueeze(pred_imgT, 0)\n",
    "    super_pixelT = torch.unsqueeze(super_pixelT, 0)\n",
    "\n",
    "    reward = reward_function(prediction_segmentation = pred_imgT,\n",
    "                             gt = None, dir_edges = dir_edge_ids,\n",
    "                             superpixel_segmentation = super_pixelT,\n",
    "                             node_feats = None, actions = None,\n",
    "                             subgraph_indices = SI, sg_gt_edges = None)\n",
    "\n",
    "    return reward\n",
    "    "
   ]
  },
  {
   "cell_type": "markdown",
   "id": "693701d2-331a-49fa-8bae-3d6f3798c6cd",
   "metadata": {},
   "source": [
    "## Lines with Line Reward Function"
   ]
  },
  {
   "cell_type": "code",
   "execution_count": 37,
   "id": "713ac3c3-2bd9-4f88-9f75-cdba1d5545fc",
   "metadata": {},
   "outputs": [],
   "source": [
    "main_img = imageio.imread(\"/home/zarvandi/unsup_pix_embed/line.png\")\n",
    "main_img = torch.from_numpy(main_img)"
   ]
  },
  {
   "cell_type": "code",
   "execution_count": 39,
   "id": "39930d3b-9f0f-46cb-ab8a-513fdd7bab98",
   "metadata": {},
   "outputs": [
    {
     "data": {
      "text/plain": [
       "<matplotlib.image.AxesImage at 0x7f7fc4003d90>"
      ]
     },
     "execution_count": 39,
     "metadata": {},
     "output_type": "execute_result"
    },
    {
     "data": {
      "image/png": "[encoded data removed]",
      "text/plain": [
       "<Figure size 432x288 with 1 Axes>"
      ]
     },
     "metadata": {
      "needs_background": "light"
     },
     "output_type": "display_data"
    }
   ],
   "source": [
    "plt.imshow(main_img)"
   ]
  },
  {
   "cell_type": "code",
   "execution_count": 5,
   "id": "059d94e9-b9b8-48e6-b78e-d370b6389567",
   "metadata": {},
   "outputs": [],
   "source": [
    "super_pixel = imageio.imread(\"/home/zarvandi/unsup_pix_embed/suppix.tif\")"
   ]
  },
  {
   "cell_type": "code",
   "execution_count": 5,
   "id": "128910aa-3532-4784-811e-21d4000202b1",
   "metadata": {},
   "outputs": [
    {
     "data": {
      "text/plain": [
       "<matplotlib.image.AxesImage at 0x7f80287cb8b0>"
      ]
     },
     "execution_count": 5,
     "metadata": {},
     "output_type": "execute_result"
    },
    {
     "data": {
      "image/png": "[encoded data removed]",
      "text/plain": [
       "<Figure size 432x288 with 1 Axes>"
      ]
     },
     "metadata": {
      "needs_background": "light"
     },
     "output_type": "display_data"
    }
   ],
   "source": [
    "plt.imshow(super_pixel)"
   ]
  },
  {
   "cell_type": "code",
   "execution_count": 6,
   "id": "ca1ca82c-d317-47d2-9051-b4ee53efcd27",
   "metadata": {},
   "outputs": [],
   "source": [
    "pred_img1 = imageio.imread(\"/home/zarvandi/unsup_pix_embed/merged1.tif\")\n",
    "pred_img2 = imageio.imread(\"/home/zarvandi/unsup_pix_embed/merged2.tif\")\n",
    "pred_img3 = imageio.imread(\"/home/zarvandi/unsup_pix_embed/merged3.tif\")\n",
    "pred_img4 = imageio.imread(\"/home/zarvandi/unsup_pix_embed/merged4.tif\")"
   ]
  },
  {
   "cell_type": "code",
   "execution_count": 7,
   "id": "ab475dee-b5cf-437c-8d20-bcb63a3f383b",
   "metadata": {},
   "outputs": [],
   "source": [
    "s_subgraph = [4]"
   ]
  },
  {
   "cell_type": "code",
   "execution_count": 8,
   "id": "35602d86-a13a-4c4a-b29f-d99a5389a917",
   "metadata": {},
   "outputs": [
    {
     "data": {
      "text/plain": [
       "([tensor([0.0538, 0.0538, 0.0558, 0.0538])],\n",
       " [tensor([0.0498, 0.0498, 0.0498, 0.0498, 0.0498, 0.0000, 0.0000, 0.0000, 0.0000])],\n",
       " tensor(0.0542))"
      ]
     },
     "execution_count": 8,
     "metadata": {},
     "output_type": "execute_result"
    }
   ],
   "source": [
    "rew_f(super_pixel, pred_img1, s_subgraph, HoughLinesReward)"
   ]
  },
  {
   "cell_type": "code",
   "execution_count": 9,
   "id": "db6e302d-1e98-454c-944d-b7902a2ee54f",
   "metadata": {},
   "outputs": [
    {
     "data": {
      "text/plain": [
       "([tensor([0.0538, 0.0538, 0.0538, 0.0538])],\n",
       " [tensor([0.0498, 0.0498, 0.0498, 0.0498, 0.0498, 0.0000, 0.0000, 0.0000, 0.0000])],\n",
       " tensor(0.0542))"
      ]
     },
     "execution_count": 9,
     "metadata": {},
     "output_type": "execute_result"
    }
   ],
   "source": [
    "rew_f(super_pixel, pred_img2, s_subgraph, HoughLinesReward)"
   ]
  },
  {
   "cell_type": "code",
   "execution_count": 10,
   "id": "1f7e1b4f-05a1-4450-8115-91e35ad5d76a",
   "metadata": {},
   "outputs": [
    {
     "data": {
      "text/plain": [
       "([tensor([0.0538, 0.0538, 0.0538, 0.0538])],\n",
       " [tensor([0.0498, 0.0498, 0.0498, 0.0498, 0.0498, 0.0000, 0.0000, 0.0000, 0.0000])],\n",
       " tensor(0.0542))"
      ]
     },
     "execution_count": 10,
     "metadata": {},
     "output_type": "execute_result"
    }
   ],
   "source": [
    "rew_f(super_pixel, pred_img3, s_subgraph, HoughLinesReward)"
   ]
  },
  {
   "cell_type": "code",
   "execution_count": 11,
   "id": "0919e88c-9c73-429a-88d1-ae6eac46575c",
   "metadata": {},
   "outputs": [
    {
     "data": {
      "text/plain": [
       "([tensor([0.0538, 0.0538, 0.0558, 0.0538])],\n",
       " [tensor([0.0498, 0.0498, 0.0498, 0.0498, 0.0498, 0.0000, 0.0000, 0.0000, 0.0000])],\n",
       " tensor(0.0542))"
      ]
     },
     "execution_count": 11,
     "metadata": {},
     "output_type": "execute_result"
    }
   ],
   "source": [
    "rew_f(super_pixel, pred_img4, s_subgraph, HoughLinesReward)"
   ]
  },
  {
   "cell_type": "code",
   "execution_count": 38,
   "id": "46ecabb0-1bba-4b86-878f-ebac339b493e",
   "metadata": {},
   "outputs": [],
   "source": [
    "# zero_img = np.zeros_like(img)\n",
    "# np.allclose(img, zero_img)"
   ]
  },
  {
   "cell_type": "code",
   "execution_count": 36,
   "id": "d81ac5db-29ed-43f6-b26b-ad4e6116153c",
   "metadata": {},
   "outputs": [],
   "source": [
    "# zeroT_img = torch.zeros_like(img)\n",
    "# torch.allclose(img, zeroT_img)"
   ]
  },
  {
   "cell_type": "markdown",
   "id": "3c4b81ea-842a-48e1-90f3-3efb5eb16bd5",
   "metadata": {},
   "source": [
    "## Lines with Circle Reward Function"
   ]
  },
  {
   "cell_type": "code",
   "execution_count": 19,
   "id": "15699cdc-02a6-46ff-9c07-71e2c390a779",
   "metadata": {},
   "outputs": [
    {
     "data": {
      "text/plain": [
       "([tensor([0.0538, 0.0538, 0.0538, 0.0538])],\n",
       " [tensor([0.0498, 0.0498, 0.0498, 0.0498, 0.0498, 0.0000, 0.0000, 0.0000, 0.0000])],\n",
       " tensor(0.0542))"
      ]
     },
     "execution_count": 19,
     "metadata": {},
     "output_type": "execute_result"
    }
   ],
   "source": [
    "rew_f(super_pixel, pred_img1, s_subgraph, HoughCirclesReward)"
   ]
  },
  {
   "cell_type": "code",
   "execution_count": 23,
   "id": "aa6523f5-6f68-4e99-b605-c17dc64d3a5c",
   "metadata": {},
   "outputs": [
    {
     "data": {
      "text/plain": [
       "([tensor([0.0558, 0.0538, 0.0538, 0.0538])],\n",
       " [tensor([0.0498, 0.0498, 0.0498, 0.0498, 0.0498, 0.0000, 0.0000, 0.0000, 0.0000])],\n",
       " tensor(0.0542))"
      ]
     },
     "execution_count": 23,
     "metadata": {},
     "output_type": "execute_result"
    }
   ],
   "source": [
    "rew_f(super_pixel, pred_img2, s_subgraph, HoughCirclesReward)"
   ]
  },
  {
   "cell_type": "code",
   "execution_count": 26,
   "id": "6bc92774-a118-4cc0-97bf-9845fef721fa",
   "metadata": {},
   "outputs": [
    {
     "data": {
      "text/plain": [
       "([tensor([0.0558, 0.0558, 0.0538, 0.0538])],\n",
       " [tensor([0.0498, 0.0498, 0.0498, 0.0498, 0.0498, 0.0000, 0.0000, 0.0000, 0.0000])],\n",
       " tensor(0.0542))"
      ]
     },
     "execution_count": 26,
     "metadata": {},
     "output_type": "execute_result"
    }
   ],
   "source": [
    "rew_f(super_pixel, pred_img3, s_subgraph, HoughCirclesReward)"
   ]
  },
  {
   "cell_type": "code",
   "execution_count": 27,
   "id": "d36708b8-02cd-4d9e-ba52-09378b3ec02d",
   "metadata": {},
   "outputs": [
    {
     "data": {
      "text/plain": [
       "([tensor([0.0538, 0.0558, 0.0538, 0.0538])],\n",
       " [tensor([0.0498, 0.0498, 0.0498, 0.0498, 0.0498, 0.0000, 0.0000, 0.0000, 0.0000])],\n",
       " tensor(0.0542))"
      ]
     },
     "execution_count": 27,
     "metadata": {},
     "output_type": "execute_result"
    }
   ],
   "source": [
    "rew_f(super_pixel, pred_img4, s_subgraph, HoughCirclesReward)"
   ]
  },
  {
   "cell_type": "markdown",
   "id": "6ab62340-922a-40f8-adff-437fe58efb22",
   "metadata": {},
   "source": [
    "## Circles with Line Reward function"
   ]
  },
  {
   "cell_type": "code",
   "execution_count": 28,
   "id": "11defb40-5b16-46ea-99d2-44a56d714036",
   "metadata": {},
   "outputs": [],
   "source": [
    "main_img_crl = imageio.imread(\"/home/zarvandi/unsup_pix_embed/circle.png\")\n",
    "main_img_crl = torch.from_numpy(main_img_crl)"
   ]
  },
  {
   "cell_type": "code",
   "execution_count": 29,
   "id": "2a84639d-2cb2-4d8a-b162-b302e2fe3543",
   "metadata": {},
   "outputs": [
    {
     "data": {
      "text/plain": [
       "<matplotlib.image.AxesImage at 0x7fc6300b3c40>"
      ]
     },
     "execution_count": 29,
     "metadata": {},
     "output_type": "execute_result"
    },
    {
     "data": {
      "image/png": "[encoded data removed]",
      "text/plain": [
       "<Figure size 432x288 with 1 Axes>"
      ]
     },
     "metadata": {
      "needs_background": "light"
     },
     "output_type": "display_data"
    }
   ],
   "source": [
    "plt.imshow(main_img_crl)"
   ]
  },
  {
   "cell_type": "code",
   "execution_count": 12,
   "id": "318d8ced-97b0-4a34-9506-79d5d64dbec4",
   "metadata": {},
   "outputs": [],
   "source": [
    "super_pixel_crl = imageio.imread(\"/home/zarvandi/unsup_pix_embed/suppix_crl.tif\")"
   ]
  },
  {
   "cell_type": "code",
   "execution_count": 15,
   "id": "a88f8255-37cc-4c7d-ae6d-10b100c2fe1b",
   "metadata": {},
   "outputs": [
    {
     "data": {
      "text/plain": [
       "<matplotlib.image.AxesImage at 0x7f739552ee50>"
      ]
     },
     "execution_count": 15,
     "metadata": {},
     "output_type": "execute_result"
    },
    {
     "data": {
      "image/png": "[encoded data removed]",
      "text/plain": [
       "<Figure size 432x288 with 1 Axes>"
      ]
     },
     "metadata": {
      "needs_background": "light"
     },
     "output_type": "display_data"
    }
   ],
   "source": [
    "plt.imshow(super_pixel_crl)"
   ]
  },
  {
   "cell_type": "code",
   "execution_count": 13,
   "id": "3fca59c2-dade-4588-ac6f-64582ea9b42e",
   "metadata": {},
   "outputs": [],
   "source": [
    "pred_img1_crl = imageio.imread(\"/home/zarvandi/unsup_pix_embed/merged1_crl.tif\")\n",
    "pred_img2_crl = imageio.imread(\"/home/zarvandi/unsup_pix_embed/merged2_crl.tif\")\n",
    "pred_img3_crl = imageio.imread(\"/home/zarvandi/unsup_pix_embed/merged3_crl.tif\")"
   ]
  },
  {
   "cell_type": "code",
   "execution_count": 14,
   "id": "422006e9-4c8b-4fac-b8b9-4276ed461524",
   "metadata": {},
   "outputs": [
    {
     "data": {
      "text/plain": [
       "([tensor([0.0538, 0.0538, 0.0538, 0.0538, 0.0538])],\n",
       " [tensor([0.0498, 0.0498, 0.0498, 0.0498, 0.0000, 0.0000, 0.0000, 0.0000, 0.0000])],\n",
       " tensor(0.0534))"
      ]
     },
     "execution_count": 14,
     "metadata": {},
     "output_type": "execute_result"
    }
   ],
   "source": [
    "rew_f(super_pixel_crl, pred_img1_crl, s_subgraph, HoughLinesReward)"
   ]
  },
  {
   "cell_type": "code",
   "execution_count": 15,
   "id": "a53d50db-cd6a-4896-bdea-c5ed3672350f",
   "metadata": {},
   "outputs": [
    {
     "data": {
      "text/plain": [
       "([tensor([0.0538, 0.0538, 0.0538, 0.0538, 0.0538])],\n",
       " [tensor([0.0498, 0.0498, 0.0498, 0.0498, 0.0000, 0.0000, 0.0000, 0.0000, 0.0000])],\n",
       " tensor(0.0534))"
      ]
     },
     "execution_count": 15,
     "metadata": {},
     "output_type": "execute_result"
    }
   ],
   "source": [
    "rew_f(super_pixel_crl, pred_img2_crl, s_subgraph, HoughLinesReward)"
   ]
  },
  {
   "cell_type": "code",
   "execution_count": 24,
   "id": "6cf83c2a-de59-4a04-baa6-46a6d35df8a0",
   "metadata": {},
   "outputs": [
    {
     "data": {
      "text/plain": [
       "([tensor([0.0538, 0.0538, 0.0538, 0.0538, 0.0538])],\n",
       " [tensor([0.0498, 0.0498, 0.0498, 0.0498, 0.0000, 0.0000, 0.0000, 0.0000, 0.0000])],\n",
       " tensor(0.0534))"
      ]
     },
     "execution_count": 24,
     "metadata": {},
     "output_type": "execute_result"
    }
   ],
   "source": [
    "rew_f(super_pixel_crl, pred_img3_crl, s_subgraph, HoughLinesReward)"
   ]
  },
  {
   "cell_type": "markdown",
   "id": "a2135125-da28-457f-9bae-044f4c1ca293",
   "metadata": {},
   "source": [
    "## Circles with Circle Reward Function"
   ]
  },
  {
   "cell_type": "code",
   "execution_count": 20,
   "id": "f8e93581-3581-4738-8478-c2369033862f",
   "metadata": {},
   "outputs": [
    {
     "data": {
      "text/plain": [
       "([tensor([0.0538, 0.0538, 0.0538, 0.0538, 0.0538])],\n",
       " [tensor([0.0498, 0.0498, 0.0498, 0.0498, 0.0000, 0.0000, 0.0000, 0.0000, 0.0000])],\n",
       " tensor(0.0534))"
      ]
     },
     "execution_count": 20,
     "metadata": {},
     "output_type": "execute_result"
    }
   ],
   "source": [
    "rew_f(super_pixel_crl, pred_img1_crl, s_subgraph, HoughCirclesReward)"
   ]
  },
  {
   "cell_type": "code",
   "execution_count": 21,
   "id": "5d04615e-9caa-4303-9444-fdeefeb5a35b",
   "metadata": {},
   "outputs": [
    {
     "data": {
      "text/plain": [
       "([tensor([0.0538, 0.0538, 0.0538, 0.0538, 0.0538])],\n",
       " [tensor([0.0498, 0.0498, 0.0498, 0.0498, 0.0000, 0.0000, 0.0000, 0.0000, 0.0000])],\n",
       " tensor(0.0534))"
      ]
     },
     "execution_count": 21,
     "metadata": {},
     "output_type": "execute_result"
    }
   ],
   "source": [
    "rew_f(super_pixel_crl, pred_img2_crl, s_subgraph, HoughCirclesReward)"
   ]
  },
  {
   "cell_type": "code",
   "execution_count": 25,
   "id": "492c8d28-4457-4f85-872a-6e007145694c",
   "metadata": {},
   "outputs": [
    {
     "data": {
      "text/plain": [
       "([tensor([0.0538, 0.0538, 0.0538, 0.0538, 0.0538])],\n",
       " [tensor([0.0498, 0.0498, 0.0498, 0.0498, 0.0000, 0.0000, 0.0000, 0.0000, 0.0000])],\n",
       " tensor(0.0534))"
      ]
     },
     "execution_count": 25,
     "metadata": {},
     "output_type": "execute_result"
    }
   ],
   "source": [
    "rew_f(super_pixel_crl, pred_img3_crl, s_subgraph, HoughCirclesReward)"
   ]
  },
  {
   "cell_type": "code",
   "execution_count": null,
   "id": "17769749-0702-44a0-82f7-bc854fa54777",
   "metadata": {},
   "outputs": [],
   "source": []
  }
 ],
 "metadata": {
  "kernelspec": {
   "display_name": "Python 3 (ipykernel)",
   "language": "python",
   "name": "python3"
  },
  "language_info": {
   "codemirror_mode": {
    "name": "ipython",
    "version": 3
   },
   "file_extension": ".py",
   "mimetype": "text/x-python",
   "name": "python",
   "nbconvert_exporter": "python",
   "pygments_lexer": "ipython3",
   "version": "3.8.13"
  }
 },
 "nbformat": 4,
 "nbformat_minor": 5
}
